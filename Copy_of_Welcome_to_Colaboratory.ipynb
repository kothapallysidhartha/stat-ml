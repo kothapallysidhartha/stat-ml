{
  "cells": [
    {
      "cell_type": "markdown",
      "metadata": {
        "id": "view-in-github",
        "colab_type": "text"
      },
      "source": [
        "<a href=\"https://colab.research.google.com/github/kothapallysidhartha/stat-ml/blob/main/Copy_of_Welcome_to_Colaboratory.ipynb\" target=\"_parent\"><img src=\"https://colab.research.google.com/assets/colab-badge.svg\" alt=\"Open In Colab\"/></a>"
      ]
    },
    {
      "cell_type": "code",
      "source": [
        "import pandas as pd\n",
        "import numpy as np\n",
        "import matplotlib.pyplot as plt\n",
        "import math\n",
        "import seaborn as sns\n",
        "data = pd.read_csv(\"card_transdata.csv\")\n",
        "data"
      ],
      "metadata": {
        "colab": {
          "base_uri": "https://localhost:8080/",
          "height": 488
        },
        "id": "oJJU-I2Z0024",
        "outputId": "09a4822b-385b-4453-c591-f7cda2b3de67"
      },
      "execution_count": null,
      "outputs": [
        {
          "output_type": "execute_result",
          "data": {
            "text/plain": [
              "        distance_from_home  distance_from_last_transaction  \\\n",
              "0                57.877857                        0.311140   \n",
              "1                10.829943                        0.175592   \n",
              "2                 5.091079                        0.805153   \n",
              "3                 2.247564                        5.600044   \n",
              "4                44.190936                        0.566486   \n",
              "...                    ...                             ...   \n",
              "999794            1.623901                        0.385844   \n",
              "999795           11.607613                        5.841700   \n",
              "999796            7.612152                        5.086330   \n",
              "999797            1.550459                        3.321246   \n",
              "999798            2.287969                        3.028239   \n",
              "\n",
              "        ratio_to_median_purchase_price  repeat_retailer  used_chip  \\\n",
              "0                             1.945940                1          1   \n",
              "1                             1.294219                1          0   \n",
              "2                             0.427715                1          0   \n",
              "3                             0.362663                1          1   \n",
              "4                             2.222767                1          1   \n",
              "...                                ...              ...        ...   \n",
              "999794                        1.176781                0          0   \n",
              "999795                        1.284158                1          1   \n",
              "999796                        3.918700                1          0   \n",
              "999797                        0.330673                0          0   \n",
              "999798                        0.774920                1          1   \n",
              "\n",
              "        used_pin_number  online_order  fraud  \n",
              "0                     0             0      0  \n",
              "1                     0             0      0  \n",
              "2                     0             1      0  \n",
              "3                     0             1      0  \n",
              "4                     0             1      0  \n",
              "...                 ...           ...    ...  \n",
              "999794                0             1      0  \n",
              "999795                0             1      0  \n",
              "999796                0             1      0  \n",
              "999797                0             0      0  \n",
              "999798                1             1      0  \n",
              "\n",
              "[999799 rows x 8 columns]"
            ],
            "text/html": [
              "\n",
              "  <div id=\"df-ff99235e-1cf4-4d3f-a189-89f109493520\">\n",
              "    <div class=\"colab-df-container\">\n",
              "      <div>\n",
              "<style scoped>\n",
              "    .dataframe tbody tr th:only-of-type {\n",
              "        vertical-align: middle;\n",
              "    }\n",
              "\n",
              "    .dataframe tbody tr th {\n",
              "        vertical-align: top;\n",
              "    }\n",
              "\n",
              "    .dataframe thead th {\n",
              "        text-align: right;\n",
              "    }\n",
              "</style>\n",
              "<table border=\"1\" class=\"dataframe\">\n",
              "  <thead>\n",
              "    <tr style=\"text-align: right;\">\n",
              "      <th></th>\n",
              "      <th>distance_from_home</th>\n",
              "      <th>distance_from_last_transaction</th>\n",
              "      <th>ratio_to_median_purchase_price</th>\n",
              "      <th>repeat_retailer</th>\n",
              "      <th>used_chip</th>\n",
              "      <th>used_pin_number</th>\n",
              "      <th>online_order</th>\n",
              "      <th>fraud</th>\n",
              "    </tr>\n",
              "  </thead>\n",
              "  <tbody>\n",
              "    <tr>\n",
              "      <th>0</th>\n",
              "      <td>57.877857</td>\n",
              "      <td>0.311140</td>\n",
              "      <td>1.945940</td>\n",
              "      <td>1</td>\n",
              "      <td>1</td>\n",
              "      <td>0</td>\n",
              "      <td>0</td>\n",
              "      <td>0</td>\n",
              "    </tr>\n",
              "    <tr>\n",
              "      <th>1</th>\n",
              "      <td>10.829943</td>\n",
              "      <td>0.175592</td>\n",
              "      <td>1.294219</td>\n",
              "      <td>1</td>\n",
              "      <td>0</td>\n",
              "      <td>0</td>\n",
              "      <td>0</td>\n",
              "      <td>0</td>\n",
              "    </tr>\n",
              "    <tr>\n",
              "      <th>2</th>\n",
              "      <td>5.091079</td>\n",
              "      <td>0.805153</td>\n",
              "      <td>0.427715</td>\n",
              "      <td>1</td>\n",
              "      <td>0</td>\n",
              "      <td>0</td>\n",
              "      <td>1</td>\n",
              "      <td>0</td>\n",
              "    </tr>\n",
              "    <tr>\n",
              "      <th>3</th>\n",
              "      <td>2.247564</td>\n",
              "      <td>5.600044</td>\n",
              "      <td>0.362663</td>\n",
              "      <td>1</td>\n",
              "      <td>1</td>\n",
              "      <td>0</td>\n",
              "      <td>1</td>\n",
              "      <td>0</td>\n",
              "    </tr>\n",
              "    <tr>\n",
              "      <th>4</th>\n",
              "      <td>44.190936</td>\n",
              "      <td>0.566486</td>\n",
              "      <td>2.222767</td>\n",
              "      <td>1</td>\n",
              "      <td>1</td>\n",
              "      <td>0</td>\n",
              "      <td>1</td>\n",
              "      <td>0</td>\n",
              "    </tr>\n",
              "    <tr>\n",
              "      <th>...</th>\n",
              "      <td>...</td>\n",
              "      <td>...</td>\n",
              "      <td>...</td>\n",
              "      <td>...</td>\n",
              "      <td>...</td>\n",
              "      <td>...</td>\n",
              "      <td>...</td>\n",
              "      <td>...</td>\n",
              "    </tr>\n",
              "    <tr>\n",
              "      <th>999794</th>\n",
              "      <td>1.623901</td>\n",
              "      <td>0.385844</td>\n",
              "      <td>1.176781</td>\n",
              "      <td>0</td>\n",
              "      <td>0</td>\n",
              "      <td>0</td>\n",
              "      <td>1</td>\n",
              "      <td>0</td>\n",
              "    </tr>\n",
              "    <tr>\n",
              "      <th>999795</th>\n",
              "      <td>11.607613</td>\n",
              "      <td>5.841700</td>\n",
              "      <td>1.284158</td>\n",
              "      <td>1</td>\n",
              "      <td>1</td>\n",
              "      <td>0</td>\n",
              "      <td>1</td>\n",
              "      <td>0</td>\n",
              "    </tr>\n",
              "    <tr>\n",
              "      <th>999796</th>\n",
              "      <td>7.612152</td>\n",
              "      <td>5.086330</td>\n",
              "      <td>3.918700</td>\n",
              "      <td>1</td>\n",
              "      <td>0</td>\n",
              "      <td>0</td>\n",
              "      <td>1</td>\n",
              "      <td>0</td>\n",
              "    </tr>\n",
              "    <tr>\n",
              "      <th>999797</th>\n",
              "      <td>1.550459</td>\n",
              "      <td>3.321246</td>\n",
              "      <td>0.330673</td>\n",
              "      <td>0</td>\n",
              "      <td>0</td>\n",
              "      <td>0</td>\n",
              "      <td>0</td>\n",
              "      <td>0</td>\n",
              "    </tr>\n",
              "    <tr>\n",
              "      <th>999798</th>\n",
              "      <td>2.287969</td>\n",
              "      <td>3.028239</td>\n",
              "      <td>0.774920</td>\n",
              "      <td>1</td>\n",
              "      <td>1</td>\n",
              "      <td>1</td>\n",
              "      <td>1</td>\n",
              "      <td>0</td>\n",
              "    </tr>\n",
              "  </tbody>\n",
              "</table>\n",
              "<p>999799 rows × 8 columns</p>\n",
              "</div>\n",
              "      <button class=\"colab-df-convert\" onclick=\"convertToInteractive('df-ff99235e-1cf4-4d3f-a189-89f109493520')\"\n",
              "              title=\"Convert this dataframe to an interactive table.\"\n",
              "              style=\"display:none;\">\n",
              "        \n",
              "  <svg xmlns=\"http://www.w3.org/2000/svg\" height=\"24px\"viewBox=\"0 0 24 24\"\n",
              "       width=\"24px\">\n",
              "    <path d=\"M0 0h24v24H0V0z\" fill=\"none\"/>\n",
              "    <path d=\"M18.56 5.44l.94 2.06.94-2.06 2.06-.94-2.06-.94-.94-2.06-.94 2.06-2.06.94zm-11 1L8.5 8.5l.94-2.06 2.06-.94-2.06-.94L8.5 2.5l-.94 2.06-2.06.94zm10 10l.94 2.06.94-2.06 2.06-.94-2.06-.94-.94-2.06-.94 2.06-2.06.94z\"/><path d=\"M17.41 7.96l-1.37-1.37c-.4-.4-.92-.59-1.43-.59-.52 0-1.04.2-1.43.59L10.3 9.45l-7.72 7.72c-.78.78-.78 2.05 0 2.83L4 21.41c.39.39.9.59 1.41.59.51 0 1.02-.2 1.41-.59l7.78-7.78 2.81-2.81c.8-.78.8-2.07 0-2.86zM5.41 20L4 18.59l7.72-7.72 1.47 1.35L5.41 20z\"/>\n",
              "  </svg>\n",
              "      </button>\n",
              "      \n",
              "  <style>\n",
              "    .colab-df-container {\n",
              "      display:flex;\n",
              "      flex-wrap:wrap;\n",
              "      gap: 12px;\n",
              "    }\n",
              "\n",
              "    .colab-df-convert {\n",
              "      background-color: #E8F0FE;\n",
              "      border: none;\n",
              "      border-radius: 50%;\n",
              "      cursor: pointer;\n",
              "      display: none;\n",
              "      fill: #1967D2;\n",
              "      height: 32px;\n",
              "      padding: 0 0 0 0;\n",
              "      width: 32px;\n",
              "    }\n",
              "\n",
              "    .colab-df-convert:hover {\n",
              "      background-color: #E2EBFA;\n",
              "      box-shadow: 0px 1px 2px rgba(60, 64, 67, 0.3), 0px 1px 3px 1px rgba(60, 64, 67, 0.15);\n",
              "      fill: #174EA6;\n",
              "    }\n",
              "\n",
              "    [theme=dark] .colab-df-convert {\n",
              "      background-color: #3B4455;\n",
              "      fill: #D2E3FC;\n",
              "    }\n",
              "\n",
              "    [theme=dark] .colab-df-convert:hover {\n",
              "      background-color: #434B5C;\n",
              "      box-shadow: 0px 1px 3px 1px rgba(0, 0, 0, 0.15);\n",
              "      filter: drop-shadow(0px 1px 2px rgba(0, 0, 0, 0.3));\n",
              "      fill: #FFFFFF;\n",
              "    }\n",
              "  </style>\n",
              "\n",
              "      <script>\n",
              "        const buttonEl =\n",
              "          document.querySelector('#df-ff99235e-1cf4-4d3f-a189-89f109493520 button.colab-df-convert');\n",
              "        buttonEl.style.display =\n",
              "          google.colab.kernel.accessAllowed ? 'block' : 'none';\n",
              "\n",
              "        async function convertToInteractive(key) {\n",
              "          const element = document.querySelector('#df-ff99235e-1cf4-4d3f-a189-89f109493520');\n",
              "          const dataTable =\n",
              "            await google.colab.kernel.invokeFunction('convertToInteractive',\n",
              "                                                     [key], {});\n",
              "          if (!dataTable) return;\n",
              "\n",
              "          const docLinkHtml = 'Like what you see? Visit the ' +\n",
              "            '<a target=\"_blank\" href=https://colab.research.google.com/notebooks/data_table.ipynb>data table notebook</a>'\n",
              "            + ' to learn more about interactive tables.';\n",
              "          element.innerHTML = '';\n",
              "          dataTable['output_type'] = 'display_data';\n",
              "          await google.colab.output.renderOutput(dataTable, element);\n",
              "          const docLink = document.createElement('div');\n",
              "          docLink.innerHTML = docLinkHtml;\n",
              "          element.appendChild(docLink);\n",
              "        }\n",
              "      </script>\n",
              "    </div>\n",
              "  </div>\n",
              "  "
            ]
          },
          "metadata": {},
          "execution_count": 47
        }
      ]
    },
    {
      "cell_type": "code",
      "source": [
        "data.info()\n",
        "data2 = data.copy()"
      ],
      "metadata": {
        "colab": {
          "base_uri": "https://localhost:8080/"
        },
        "id": "uJ4P5zXHuY5O",
        "outputId": "f6970554-c2a4-406a-ba41-c660370d2783"
      },
      "execution_count": null,
      "outputs": [
        {
          "output_type": "stream",
          "name": "stdout",
          "text": [
            "<class 'pandas.core.frame.DataFrame'>\n",
            "RangeIndex: 999799 entries, 0 to 999798\n",
            "Data columns (total 8 columns):\n",
            " #   Column                          Non-Null Count   Dtype  \n",
            "---  ------                          --------------   -----  \n",
            " 0   distance_from_home              999799 non-null  float64\n",
            " 1   distance_from_last_transaction  999799 non-null  float64\n",
            " 2   ratio_to_median_purchase_price  999799 non-null  float64\n",
            " 3   repeat_retailer                 999799 non-null  int64  \n",
            " 4   used_chip                       999799 non-null  int64  \n",
            " 5   used_pin_number                 999799 non-null  int64  \n",
            " 6   online_order                    999799 non-null  int64  \n",
            " 7   fraud                           999799 non-null  int64  \n",
            "dtypes: float64(3), int64(5)\n",
            "memory usage: 61.0 MB\n"
          ]
        }
      ]
    },
    {
      "cell_type": "markdown",
      "source": [
        "\n",
        "\n",
        "> Indented block\n",
        "\n",
        "\n",
        "\n",
        "**Features:**\n",
        "\n",
        "**distance_from_home**: the distance from home where the transaction happened.\n",
        "\n",
        "**distance_from_last_transaction**: the distance from last transaction happened.\n",
        "\n",
        "r** **bold text**atio_to_median_purchase_price**: Ratio of purchased price transaction to median purchase price.\n",
        "\n",
        "**repeat_retailer**: Is the transaction happened from same retailer.\n",
        "\n",
        "**used_chip**: Is the transaction through chip (credit card).\n",
        "\n",
        "**used_pin_numbe**r: Is the transaction happened by using PIN number.\n",
        "\n",
        "**online_order**: Is the transaction an online order.\n",
        "\n",
        "**fraud**: Is the transaction fraudulent."
      ],
      "metadata": {
        "id": "7ySVVci6FN9Z"
      }
    },
    {
      "cell_type": "code",
      "source": [
        "plt.scatter(data['distance_from_home'],data['fraud'])"
      ],
      "metadata": {
        "colab": {
          "base_uri": "https://localhost:8080/",
          "height": 282
        },
        "id": "S35InLbUvCeY",
        "outputId": "f4619a6c-8a2b-4c47-92c4-0d4811fec07e"
      },
      "execution_count": null,
      "outputs": [
        {
          "output_type": "execute_result",
          "data": {
            "text/plain": [
              "<matplotlib.collections.PathCollection at 0x7f01ebe0d640>"
            ]
          },
          "metadata": {},
          "execution_count": 3
        },
        {
          "output_type": "display_data",
          "data": {
            "text/plain": [
              "<Figure size 432x288 with 1 Axes>"
            ],
            "image/png": "[encoded data removed]"
          },
          "metadata": {
            "needs_background": "light"
          }
        }
      ]
    },
    {
      "cell_type": "code",
      "source": [
        "plt.scatter(data['distance_from_last_transaction'],data['fraud'])"
      ],
      "metadata": {
        "colab": {
          "base_uri": "https://localhost:8080/",
          "height": 282
        },
        "id": "U8k7xrQkwjU7",
        "outputId": "4aea5f3b-b347-4030-f9e4-259bdebf4be2"
      },
      "execution_count": null,
      "outputs": [
        {
          "output_type": "execute_result",
          "data": {
            "text/plain": [
              "<matplotlib.collections.PathCollection at 0x7f01eb8e1f70>"
            ]
          },
          "metadata": {},
          "execution_count": 4
        },
        {
          "output_type": "display_data",
          "data": {
            "text/plain": [
              "<Figure size 432x288 with 1 Axes>"
            ],
            "image/png": "[encoded data removed]"
          },
          "metadata": {
            "needs_background": "light"
          }
        }
      ]
    },
    {
      "cell_type": "code",
      "source": [
        "plt.scatter(data['ratio_to_median_purchase_price'],data['fraud'])"
      ],
      "metadata": {
        "colab": {
          "base_uri": "https://localhost:8080/",
          "height": 282
        },
        "id": "ZrvaH6elwMZ2",
        "outputId": "687a7275-b765-4266-c4f5-9b4032cac15c"
      },
      "execution_count": null,
      "outputs": [
        {
          "output_type": "execute_result",
          "data": {
            "text/plain": [
              "<matplotlib.collections.PathCollection at 0x7f01eb8c7cd0>"
            ]
          },
          "metadata": {},
          "execution_count": 5
        },
        {
          "output_type": "display_data",
          "data": {
            "text/plain": [
              "<Figure size 432x288 with 1 Axes>"
            ],
            "image/png": "[encoded data removed]"
          },
          "metadata": {
            "needs_background": "light"
          }
        }
      ]
    },
    {
      "cell_type": "code",
      "source": [
        "plt.scatter(data['used_chip'],data['fraud'])"
      ],
      "metadata": {
        "colab": {
          "base_uri": "https://localhost:8080/",
          "height": 282
        },
        "id": "fYe5dKk0yORs",
        "outputId": "dd964898-1b2b-4e6c-8c02-d09c1a7ce95b"
      },
      "execution_count": null,
      "outputs": [
        {
          "output_type": "execute_result",
          "data": {
            "text/plain": [
              "<matplotlib.collections.PathCollection at 0x7f01eb816dc0>"
            ]
          },
          "metadata": {},
          "execution_count": 6
        },
        {
          "output_type": "display_data",
          "data": {
            "text/plain": [
              "<Figure size 432x288 with 1 Axes>"
            ],
            "image/png": "[encoded data removed]"
          },
          "metadata": {
            "needs_background": "light"
          }
        }
      ]
    },
    {
      "cell_type": "code",
      "source": [
        "plt.scatter(data['repeat_retailer'],data['fraud'])"
      ],
      "metadata": {
        "colab": {
          "base_uri": "https://localhost:8080/",
          "height": 282
        },
        "id": "iEObp1TTyEd6",
        "outputId": "98127ba8-6cc9-4ed3-bbf5-ebce9ef1c4f7"
      },
      "execution_count": null,
      "outputs": [
        {
          "output_type": "execute_result",
          "data": {
            "text/plain": [
              "<matplotlib.collections.PathCollection at 0x7f01eb7fde20>"
            ]
          },
          "metadata": {},
          "execution_count": 7
        },
        {
          "output_type": "display_data",
          "data": {
            "text/plain": [
              "<Figure size 432x288 with 1 Axes>"
            ],
            "image/png": "[encoded data removed]"
          },
          "metadata": {
            "needs_background": "light"
          }
        }
      ]
    },
    {
      "cell_type": "code",
      "source": [
        "plt.scatter(data['used_pin_number'],data['fraud'])"
      ],
      "metadata": {
        "colab": {
          "base_uri": "https://localhost:8080/",
          "height": 282
        },
        "id": "UqGFJFl4yWC_",
        "outputId": "238e3bb4-8e95-4d61-8719-7e153c4959d9"
      },
      "execution_count": null,
      "outputs": [
        {
          "output_type": "execute_result",
          "data": {
            "text/plain": [
              "<matplotlib.collections.PathCollection at 0x7f01eb894250>"
            ]
          },
          "metadata": {},
          "execution_count": 8
        },
        {
          "output_type": "display_data",
          "data": {
            "text/plain": [
              "<Figure size 432x288 with 1 Axes>"
            ],
            "image/png": "[encoded data removed]"
          },
          "metadata": {
            "needs_background": "light"
          }
        }
      ]
    },
    {
      "cell_type": "code",
      "source": [
        "plt.scatter(data['online_order'],data['fraud'])"
      ],
      "metadata": {
        "colab": {
          "base_uri": "https://localhost:8080/",
          "height": 282
        },
        "id": "8C_CmVKByzQ8",
        "outputId": "7ec6b0bf-5d22-4e67-8f1d-8bac8b4c8e01"
      },
      "execution_count": null,
      "outputs": [
        {
          "output_type": "execute_result",
          "data": {
            "text/plain": [
              "<matplotlib.collections.PathCollection at 0x7f01eb8073d0>"
            ]
          },
          "metadata": {},
          "execution_count": 9
        },
        {
          "output_type": "display_data",
          "data": {
            "text/plain": [
              "<Figure size 432x288 with 1 Axes>"
            ],
            "image/png": "[encoded data removed]"
          },
          "metadata": {
            "needs_background": "light"
          }
        }
      ]
    },
    {
      "cell_type": "code",
      "source": [
        "x=data[['online_order','used_pin_number','repeat_retailer','used_chip','ratio_to_median_purchase_price','distance_from_last_transaction','distance_from_home']]\n",
        "y=data[['fraud']]\n",
        "print(x)\n",
        "print(y)"
      ],
      "metadata": {
        "colab": {
          "base_uri": "https://localhost:8080/"
        },
        "id": "-SeiO5b70Zdc",
        "outputId": "dc594e28-5da8-408c-c3ed-7fd99d51dcf6"
      },
      "execution_count": null,
      "outputs": [
        {
          "output_type": "stream",
          "name": "stdout",
          "text": [
            "        online_order  used_pin_number  repeat_retailer  used_chip  \\\n",
            "0                  0                0                1          1   \n",
            "1                  0                0                1          0   \n",
            "2                  1                0                1          0   \n",
            "3                  1                0                1          1   \n",
            "4                  1                0                1          1   \n",
            "...              ...              ...              ...        ...   \n",
            "999794             1                0                0          0   \n",
            "999795             1                0                1          1   \n",
            "999796             1                0                1          0   \n",
            "999797             0                0                0          0   \n",
            "999798             1                1                1          1   \n",
            "\n",
            "        ratio_to_median_purchase_price  distance_from_last_transaction  \\\n",
            "0                             1.945940                        0.311140   \n",
            "1                             1.294219                        0.175592   \n",
            "2                             0.427715                        0.805153   \n",
            "3                             0.362663                        5.600044   \n",
            "4                             2.222767                        0.566486   \n",
            "...                                ...                             ...   \n",
            "999794                        1.176781                        0.385844   \n",
            "999795                        1.284158                        5.841700   \n",
            "999796                        3.918700                        5.086330   \n",
            "999797                        0.330673                        3.321246   \n",
            "999798                        0.774920                        3.028239   \n",
            "\n",
            "        distance_from_home  \n",
            "0                57.877857  \n",
            "1                10.829943  \n",
            "2                 5.091079  \n",
            "3                 2.247564  \n",
            "4                44.190936  \n",
            "...                    ...  \n",
            "999794            1.623901  \n",
            "999795           11.607613  \n",
            "999796            7.612152  \n",
            "999797            1.550459  \n",
            "999798            2.287969  \n",
            "\n",
            "[999799 rows x 7 columns]\n",
            "        fraud\n",
            "0           0\n",
            "1           0\n",
            "2           0\n",
            "3           0\n",
            "4           0\n",
            "...       ...\n",
            "999794      0\n",
            "999795      0\n",
            "999796      0\n",
            "999797      0\n",
            "999798      0\n",
            "\n",
            "[999799 rows x 1 columns]\n"
          ]
        }
      ]
    },
    {
      "cell_type": "code",
      "source": [
        "from sklearn.model_selection import train_test_split\n",
        "from sklearn import neighbors, metrics"
      ],
      "metadata": {
        "id": "hQPYd_pbemEk"
      },
      "execution_count": null,
      "outputs": []
    },
    {
      "cell_type": "code",
      "source": [
        "x_train,x_test,y_train,y_test=train_test_split(x,y,test_size=0.30)\n",
        "print(\"length of training rows=\",len(x_train))\n",
        "x_train"
      ],
      "metadata": {
        "colab": {
          "base_uri": "https://localhost:8080/",
          "height": 441
        },
        "id": "s2MMK_9h2n3J",
        "outputId": "e7188272-44d6-4c6b-f086-5ded2a273090"
      },
      "execution_count": null,
      "outputs": [
        {
          "output_type": "stream",
          "name": "stdout",
          "text": [
            "length of training rows= 699859\n"
          ]
        },
        {
          "output_type": "execute_result",
          "data": {
            "text/plain": [
              "        online_order  used_pin_number  repeat_retailer  used_chip  \\\n",
              "818142             1                0                1          0   \n",
              "414908             0                0                1          0   \n",
              "189864             1                0                1          0   \n",
              "494134             1                1                1          1   \n",
              "774281             0                0                1          0   \n",
              "...              ...              ...              ...        ...   \n",
              "652885             1                0                1          0   \n",
              "108297             0                0                1          0   \n",
              "56019              0                0                0          0   \n",
              "720709             1                0                1          1   \n",
              "980972             1                0                1          1   \n",
              "\n",
              "        ratio_to_median_purchase_price  distance_from_last_transaction  \\\n",
              "818142                        1.115920                        0.928248   \n",
              "414908                        0.280237                        1.758245   \n",
              "189864                        0.774350                        0.122071   \n",
              "494134                        1.465307                        1.373644   \n",
              "774281                        0.738553                        2.554693   \n",
              "...                                ...                             ...   \n",
              "652885                        0.616862                        0.002627   \n",
              "108297                        0.682278                        4.620521   \n",
              "56019                         0.369960                        7.900907   \n",
              "720709                        4.155947                        0.138793   \n",
              "980972                        0.402565                        0.063842   \n",
              "\n",
              "        distance_from_home  \n",
              "818142          141.444169  \n",
              "414908            3.119174  \n",
              "189864            5.791293  \n",
              "494134            4.037935  \n",
              "774281           38.963735  \n",
              "...                    ...  \n",
              "652885           20.599519  \n",
              "108297            2.862293  \n",
              "56019             1.602943  \n",
              "720709           33.249085  \n",
              "980972           32.559195  \n",
              "\n",
              "[699859 rows x 7 columns]"
            ],
            "text/html": [
              "\n",
              "  <div id=\"df-ab724d3d-8c4a-40cd-8f2b-e374c8e0ba49\">\n",
              "    <div class=\"colab-df-container\">\n",
              "      <div>\n",
              "<style scoped>\n",
              "    .dataframe tbody tr th:only-of-type {\n",
              "        vertical-align: middle;\n",
              "    }\n",
              "\n",
              "    .dataframe tbody tr th {\n",
              "        vertical-align: top;\n",
              "    }\n",
              "\n",
              "    .dataframe thead th {\n",
              "        text-align: right;\n",
              "    }\n",
              "</style>\n",
              "<table border=\"1\" class=\"dataframe\">\n",
              "  <thead>\n",
              "    <tr style=\"text-align: right;\">\n",
              "      <th></th>\n",
              "      <th>online_order</th>\n",
              "      <th>used_pin_number</th>\n",
              "      <th>repeat_retailer</th>\n",
              "      <th>used_chip</th>\n",
              "      <th>ratio_to_median_purchase_price</th>\n",
              "      <th>distance_from_last_transaction</th>\n",
              "      <th>distance_from_home</th>\n",
              "    </tr>\n",
              "  </thead>\n",
              "  <tbody>\n",
              "    <tr>\n",
              "      <th>818142</th>\n",
              "      <td>1</td>\n",
              "      <td>0</td>\n",
              "      <td>1</td>\n",
              "      <td>0</td>\n",
              "      <td>1.115920</td>\n",
              "      <td>0.928248</td>\n",
              "      <td>141.444169</td>\n",
              "    </tr>\n",
              "    <tr>\n",
              "      <th>414908</th>\n",
              "      <td>0</td>\n",
              "      <td>0</td>\n",
              "      <td>1</td>\n",
              "      <td>0</td>\n",
              "      <td>0.280237</td>\n",
              "      <td>1.758245</td>\n",
              "      <td>3.119174</td>\n",
              "    </tr>\n",
              "    <tr>\n",
              "      <th>189864</th>\n",
              "      <td>1</td>\n",
              "      <td>0</td>\n",
              "      <td>1</td>\n",
              "      <td>0</td>\n",
              "      <td>0.774350</td>\n",
              "      <td>0.122071</td>\n",
              "      <td>5.791293</td>\n",
              "    </tr>\n",
              "    <tr>\n",
              "      <th>494134</th>\n",
              "      <td>1</td>\n",
              "      <td>1</td>\n",
              "      <td>1</td>\n",
              "      <td>1</td>\n",
              "      <td>1.465307</td>\n",
              "      <td>1.373644</td>\n",
              "      <td>4.037935</td>\n",
              "    </tr>\n",
              "    <tr>\n",
              "      <th>774281</th>\n",
              "      <td>0</td>\n",
              "      <td>0</td>\n",
              "      <td>1</td>\n",
              "      <td>0</td>\n",
              "      <td>0.738553</td>\n",
              "      <td>2.554693</td>\n",
              "      <td>38.963735</td>\n",
              "    </tr>\n",
              "    <tr>\n",
              "      <th>...</th>\n",
              "      <td>...</td>\n",
              "      <td>...</td>\n",
              "      <td>...</td>\n",
              "      <td>...</td>\n",
              "      <td>...</td>\n",
              "      <td>...</td>\n",
              "      <td>...</td>\n",
              "    </tr>\n",
              "    <tr>\n",
              "      <th>652885</th>\n",
              "      <td>1</td>\n",
              "      <td>0</td>\n",
              "      <td>1</td>\n",
              "      <td>0</td>\n",
              "      <td>0.616862</td>\n",
              "      <td>0.002627</td>\n",
              "      <td>20.599519</td>\n",
              "    </tr>\n",
              "    <tr>\n",
              "      <th>108297</th>\n",
              "      <td>0</td>\n",
              "      <td>0</td>\n",
              "      <td>1</td>\n",
              "      <td>0</td>\n",
              "      <td>0.682278</td>\n",
              "      <td>4.620521</td>\n",
              "      <td>2.862293</td>\n",
              "    </tr>\n",
              "    <tr>\n",
              "      <th>56019</th>\n",
              "      <td>0</td>\n",
              "      <td>0</td>\n",
              "      <td>0</td>\n",
              "      <td>0</td>\n",
              "      <td>0.369960</td>\n",
              "      <td>7.900907</td>\n",
              "      <td>1.602943</td>\n",
              "    </tr>\n",
              "    <tr>\n",
              "      <th>720709</th>\n",
              "      <td>1</td>\n",
              "      <td>0</td>\n",
              "      <td>1</td>\n",
              "      <td>1</td>\n",
              "      <td>4.155947</td>\n",
              "      <td>0.138793</td>\n",
              "      <td>33.249085</td>\n",
              "    </tr>\n",
              "    <tr>\n",
              "      <th>980972</th>\n",
              "      <td>1</td>\n",
              "      <td>0</td>\n",
              "      <td>1</td>\n",
              "      <td>1</td>\n",
              "      <td>0.402565</td>\n",
              "      <td>0.063842</td>\n",
              "      <td>32.559195</td>\n",
              "    </tr>\n",
              "  </tbody>\n",
              "</table>\n",
              "<p>699859 rows × 7 columns</p>\n",
              "</div>\n",
              "      <button class=\"colab-df-convert\" onclick=\"convertToInteractive('df-ab724d3d-8c4a-40cd-8f2b-e374c8e0ba49')\"\n",
              "              title=\"Convert this dataframe to an interactive table.\"\n",
              "              style=\"display:none;\">\n",
              "        \n",
              "  <svg xmlns=\"http://www.w3.org/2000/svg\" height=\"24px\"viewBox=\"0 0 24 24\"\n",
              "       width=\"24px\">\n",
              "    <path d=\"M0 0h24v24H0V0z\" fill=\"none\"/>\n",
              "    <path d=\"M18.56 5.44l.94 2.06.94-2.06 2.06-.94-2.06-.94-.94-2.06-.94 2.06-2.06.94zm-11 1L8.5 8.5l.94-2.06 2.06-.94-2.06-.94L8.5 2.5l-.94 2.06-2.06.94zm10 10l.94 2.06.94-2.06 2.06-.94-2.06-.94-.94-2.06-.94 2.06-2.06.94z\"/><path d=\"M17.41 7.96l-1.37-1.37c-.4-.4-.92-.59-1.43-.59-.52 0-1.04.2-1.43.59L10.3 9.45l-7.72 7.72c-.78.78-.78 2.05 0 2.83L4 21.41c.39.39.9.59 1.41.59.51 0 1.02-.2 1.41-.59l7.78-7.78 2.81-2.81c.8-.78.8-2.07 0-2.86zM5.41 20L4 18.59l7.72-7.72 1.47 1.35L5.41 20z\"/>\n",
              "  </svg>\n",
              "      </button>\n",
              "      \n",
              "  <style>\n",
              "    .colab-df-container {\n",
              "      display:flex;\n",
              "      flex-wrap:wrap;\n",
              "      gap: 12px;\n",
              "    }\n",
              "\n",
              "    .colab-df-convert {\n",
              "      background-color: #E8F0FE;\n",
              "      border: none;\n",
              "      border-radius: 50%;\n",
              "      cursor: pointer;\n",
              "      display: none;\n",
              "      fill: #1967D2;\n",
              "      height: 32px;\n",
              "      padding: 0 0 0 0;\n",
              "      width: 32px;\n",
              "    }\n",
              "\n",
              "    .colab-df-convert:hover {\n",
              "      background-color: #E2EBFA;\n",
              "      box-shadow: 0px 1px 2px rgba(60, 64, 67, 0.3), 0px 1px 3px 1px rgba(60, 64, 67, 0.15);\n",
              "      fill: #174EA6;\n",
              "    }\n",
              "\n",
              "    [theme=dark] .colab-df-convert {\n",
              "      background-color: #3B4455;\n",
              "      fill: #D2E3FC;\n",
              "    }\n",
              "\n",
              "    [theme=dark] .colab-df-convert:hover {\n",
              "      background-color: #434B5C;\n",
              "      box-shadow: 0px 1px 3px 1px rgba(0, 0, 0, 0.15);\n",
              "      filter: drop-shadow(0px 1px 2px rgba(0, 0, 0, 0.3));\n",
              "      fill: #FFFFFF;\n",
              "    }\n",
              "  </style>\n",
              "\n",
              "      <script>\n",
              "        const buttonEl =\n",
              "          document.querySelector('#df-ab724d3d-8c4a-40cd-8f2b-e374c8e0ba49 button.colab-df-convert');\n",
              "        buttonEl.style.display =\n",
              "          google.colab.kernel.accessAllowed ? 'block' : 'none';\n",
              "\n",
              "        async function convertToInteractive(key) {\n",
              "          const element = document.querySelector('#df-ab724d3d-8c4a-40cd-8f2b-e374c8e0ba49');\n",
              "          const dataTable =\n",
              "            await google.colab.kernel.invokeFunction('convertToInteractive',\n",
              "                                                     [key], {});\n",
              "          if (!dataTable) return;\n",
              "\n",
              "          const docLinkHtml = 'Like what you see? Visit the ' +\n",
              "            '<a target=\"_blank\" href=https://colab.research.google.com/notebooks/data_table.ipynb>data table notebook</a>'\n",
              "            + ' to learn more about interactive tables.';\n",
              "          element.innerHTML = '';\n",
              "          dataTable['output_type'] = 'display_data';\n",
              "          await google.colab.output.renderOutput(dataTable, element);\n",
              "          const docLink = document.createElement('div');\n",
              "          docLink.innerHTML = docLinkHtml;\n",
              "          element.appendChild(docLink);\n",
              "        }\n",
              "      </script>\n",
              "    </div>\n",
              "  </div>\n",
              "  "
            ]
          },
          "metadata": {},
          "execution_count": 51
        }
      ]
    },
    {
      "cell_type": "markdown",
      "source": [
        "KNN\n"
      ],
      "metadata": {
        "id": "IypIZKu6JRFg"
      }
    },
    {
      "cell_type": "code",
      "source": [
        "data.describe()"
      ],
      "metadata": {
        "colab": {
          "base_uri": "https://localhost:8080/",
          "height": 364
        },
        "id": "3t04OCQRhY8h",
        "outputId": "c8a71ea8-d5a0-4ede-ae51-70d828fa0164"
      },
      "execution_count": null,
      "outputs": [
        {
          "output_type": "execute_result",
          "data": {
            "text/plain": [
              "       distance_from_home  distance_from_last_transaction  \\\n",
              "count       999799.000000                   999799.000000   \n",
              "mean            26.628961                        5.036491   \n",
              "std             65.394828                       25.844593   \n",
              "min              0.004874                        0.000118   \n",
              "25%              3.877858                        0.296660   \n",
              "50%              9.967583                        0.998631   \n",
              "75%             25.743699                        3.355606   \n",
              "max          10632.723670                    11851.104560   \n",
              "\n",
              "       ratio_to_median_purchase_price  repeat_retailer      used_chip  \\\n",
              "count                   999799.000000    999799.000000  999799.000000   \n",
              "mean                         1.824205         0.881531       0.350392   \n",
              "std                          2.799550         0.323163       0.477093   \n",
              "min                          0.004399         0.000000       0.000000   \n",
              "25%                          0.475683         1.000000       0.000000   \n",
              "50%                          0.997748         1.000000       0.000000   \n",
              "75%                          2.096422         1.000000       1.000000   \n",
              "max                        267.802942         1.000000       1.000000   \n",
              "\n",
              "       used_pin_number   online_order          fraud  \n",
              "count    999799.000000  999799.000000  999799.000000  \n",
              "mean          0.100613       0.650556       0.087404  \n",
              "std           0.300816       0.476795       0.282426  \n",
              "min           0.000000       0.000000       0.000000  \n",
              "25%           0.000000       0.000000       0.000000  \n",
              "50%           0.000000       1.000000       0.000000  \n",
              "75%           0.000000       1.000000       0.000000  \n",
              "max           1.000000       1.000000       1.000000  "
            ],
            "text/html": [
              "\n",
              "  <div id=\"df-b42a8e48-2547-4cf3-9667-44a9457a4e11\">\n",
              "    <div class=\"colab-df-container\">\n",
              "      <div>\n",
              "<style scoped>\n",
              "    .dataframe tbody tr th:only-of-type {\n",
              "        vertical-align: middle;\n",
              "    }\n",
              "\n",
              "    .dataframe tbody tr th {\n",
              "        vertical-align: top;\n",
              "    }\n",
              "\n",
              "    .dataframe thead th {\n",
              "        text-align: right;\n",
              "    }\n",
              "</style>\n",
              "<table border=\"1\" class=\"dataframe\">\n",
              "  <thead>\n",
              "    <tr style=\"text-align: right;\">\n",
              "      <th></th>\n",
              "      <th>distance_from_home</th>\n",
              "      <th>distance_from_last_transaction</th>\n",
              "      <th>ratio_to_median_purchase_price</th>\n",
              "      <th>repeat_retailer</th>\n",
              "      <th>used_chip</th>\n",
              "      <th>used_pin_number</th>\n",
              "      <th>online_order</th>\n",
              "      <th>fraud</th>\n",
              "    </tr>\n",
              "  </thead>\n",
              "  <tbody>\n",
              "    <tr>\n",
              "      <th>count</th>\n",
              "      <td>999799.000000</td>\n",
              "      <td>999799.000000</td>\n",
              "      <td>999799.000000</td>\n",
              "      <td>999799.000000</td>\n",
              "      <td>999799.000000</td>\n",
              "      <td>999799.000000</td>\n",
              "      <td>999799.000000</td>\n",
              "      <td>999799.000000</td>\n",
              "    </tr>\n",
              "    <tr>\n",
              "      <th>mean</th>\n",
              "      <td>26.628961</td>\n",
              "      <td>5.036491</td>\n",
              "      <td>1.824205</td>\n",
              "      <td>0.881531</td>\n",
              "      <td>0.350392</td>\n",
              "      <td>0.100613</td>\n",
              "      <td>0.650556</td>\n",
              "      <td>0.087404</td>\n",
              "    </tr>\n",
              "    <tr>\n",
              "      <th>std</th>\n",
              "      <td>65.394828</td>\n",
              "      <td>25.844593</td>\n",
              "      <td>2.799550</td>\n",
              "      <td>0.323163</td>\n",
              "      <td>0.477093</td>\n",
              "      <td>0.300816</td>\n",
              "      <td>0.476795</td>\n",
              "      <td>0.282426</td>\n",
              "    </tr>\n",
              "    <tr>\n",
              "      <th>min</th>\n",
              "      <td>0.004874</td>\n",
              "      <td>0.000118</td>\n",
              "      <td>0.004399</td>\n",
              "      <td>0.000000</td>\n",
              "      <td>0.000000</td>\n",
              "      <td>0.000000</td>\n",
              "      <td>0.000000</td>\n",
              "      <td>0.000000</td>\n",
              "    </tr>\n",
              "    <tr>\n",
              "      <th>25%</th>\n",
              "      <td>3.877858</td>\n",
              "      <td>0.296660</td>\n",
              "      <td>0.475683</td>\n",
              "      <td>1.000000</td>\n",
              "      <td>0.000000</td>\n",
              "      <td>0.000000</td>\n",
              "      <td>0.000000</td>\n",
              "      <td>0.000000</td>\n",
              "    </tr>\n",
              "    <tr>\n",
              "      <th>50%</th>\n",
              "      <td>9.967583</td>\n",
              "      <td>0.998631</td>\n",
              "      <td>0.997748</td>\n",
              "      <td>1.000000</td>\n",
              "      <td>0.000000</td>\n",
              "      <td>0.000000</td>\n",
              "      <td>1.000000</td>\n",
              "      <td>0.000000</td>\n",
              "    </tr>\n",
              "    <tr>\n",
              "      <th>75%</th>\n",
              "      <td>25.743699</td>\n",
              "      <td>3.355606</td>\n",
              "      <td>2.096422</td>\n",
              "      <td>1.000000</td>\n",
              "      <td>1.000000</td>\n",
              "      <td>0.000000</td>\n",
              "      <td>1.000000</td>\n",
              "      <td>0.000000</td>\n",
              "    </tr>\n",
              "    <tr>\n",
              "      <th>max</th>\n",
              "      <td>10632.723670</td>\n",
              "      <td>11851.104560</td>\n",
              "      <td>267.802942</td>\n",
              "      <td>1.000000</td>\n",
              "      <td>1.000000</td>\n",
              "      <td>1.000000</td>\n",
              "      <td>1.000000</td>\n",
              "      <td>1.000000</td>\n",
              "    </tr>\n",
              "  </tbody>\n",
              "</table>\n",
              "</div>\n",
              "      <button class=\"colab-df-convert\" onclick=\"convertToInteractive('df-b42a8e48-2547-4cf3-9667-44a9457a4e11')\"\n",
              "              title=\"Convert this dataframe to an interactive table.\"\n",
              "              style=\"display:none;\">\n",
              "        \n",
              "  <svg xmlns=\"http://www.w3.org/2000/svg\" height=\"24px\"viewBox=\"0 0 24 24\"\n",
              "       width=\"24px\">\n",
              "    <path d=\"M0 0h24v24H0V0z\" fill=\"none\"/>\n",
              "    <path d=\"M18.56 5.44l.94 2.06.94-2.06 2.06-.94-2.06-.94-.94-2.06-.94 2.06-2.06.94zm-11 1L8.5 8.5l.94-2.06 2.06-.94-2.06-.94L8.5 2.5l-.94 2.06-2.06.94zm10 10l.94 2.06.94-2.06 2.06-.94-2.06-.94-.94-2.06-.94 2.06-2.06.94z\"/><path d=\"M17.41 7.96l-1.37-1.37c-.4-.4-.92-.59-1.43-.59-.52 0-1.04.2-1.43.59L10.3 9.45l-7.72 7.72c-.78.78-.78 2.05 0 2.83L4 21.41c.39.39.9.59 1.41.59.51 0 1.02-.2 1.41-.59l7.78-7.78 2.81-2.81c.8-.78.8-2.07 0-2.86zM5.41 20L4 18.59l7.72-7.72 1.47 1.35L5.41 20z\"/>\n",
              "  </svg>\n",
              "      </button>\n",
              "      \n",
              "  <style>\n",
              "    .colab-df-container {\n",
              "      display:flex;\n",
              "      flex-wrap:wrap;\n",
              "      gap: 12px;\n",
              "    }\n",
              "\n",
              "    .colab-df-convert {\n",
              "      background-color: #E8F0FE;\n",
              "      border: none;\n",
              "      border-radius: 50%;\n",
              "      cursor: pointer;\n",
              "      display: none;\n",
              "      fill: #1967D2;\n",
              "      height: 32px;\n",
              "      padding: 0 0 0 0;\n",
              "      width: 32px;\n",
              "    }\n",
              "\n",
              "    .colab-df-convert:hover {\n",
              "      background-color: #E2EBFA;\n",
              "      box-shadow: 0px 1px 2px rgba(60, 64, 67, 0.3), 0px 1px 3px 1px rgba(60, 64, 67, 0.15);\n",
              "      fill: #174EA6;\n",
              "    }\n",
              "\n",
              "    [theme=dark] .colab-df-convert {\n",
              "      background-color: #3B4455;\n",
              "      fill: #D2E3FC;\n",
              "    }\n",
              "\n",
              "    [theme=dark] .colab-df-convert:hover {\n",
              "      background-color: #434B5C;\n",
              "      box-shadow: 0px 1px 3px 1px rgba(0, 0, 0, 0.15);\n",
              "      filter: drop-shadow(0px 1px 2px rgba(0, 0, 0, 0.3));\n",
              "      fill: #FFFFFF;\n",
              "    }\n",
              "  </style>\n",
              "\n",
              "      <script>\n",
              "        const buttonEl =\n",
              "          document.querySelector('#df-b42a8e48-2547-4cf3-9667-44a9457a4e11 button.colab-df-convert');\n",
              "        buttonEl.style.display =\n",
              "          google.colab.kernel.accessAllowed ? 'block' : 'none';\n",
              "\n",
              "        async function convertToInteractive(key) {\n",
              "          const element = document.querySelector('#df-b42a8e48-2547-4cf3-9667-44a9457a4e11');\n",
              "          const dataTable =\n",
              "            await google.colab.kernel.invokeFunction('convertToInteractive',\n",
              "                                                     [key], {});\n",
              "          if (!dataTable) return;\n",
              "\n",
              "          const docLinkHtml = 'Like what you see? Visit the ' +\n",
              "            '<a target=\"_blank\" href=https://colab.research.google.com/notebooks/data_table.ipynb>data table notebook</a>'\n",
              "            + ' to learn more about interactive tables.';\n",
              "          element.innerHTML = '';\n",
              "          dataTable['output_type'] = 'display_data';\n",
              "          await google.colab.output.renderOutput(dataTable, element);\n",
              "          const docLink = document.createElement('div');\n",
              "          docLink.innerHTML = docLinkHtml;\n",
              "          element.appendChild(docLink);\n",
              "        }\n",
              "      </script>\n",
              "    </div>\n",
              "  </div>\n",
              "  "
            ]
          },
          "metadata": {},
          "execution_count": 31
        }
      ]
    },
    {
      "cell_type": "code",
      "source": [
        "knn=neighbors.KNeighborsClassifier(n_neighbors=1000,weights='distance')\n",
        "model=knn.fit(x_train,y_train)\n",
        "predictions=knn.predict(x_test)\n",
        "y=data[['fraud']]\n",
        "y=np.array(y['fraud'])"
      ],
      "metadata": {
        "colab": {
          "base_uri": "https://localhost:8080/"
        },
        "id": "bMwRHf0nh_jR",
        "outputId": "63e5e468-0421-4fbe-a51d-aa8b7791b78f"
      },
      "execution_count": null,
      "outputs": [
        {
          "output_type": "stream",
          "name": "stderr",
          "text": [
            "/usr/local/lib/python3.8/dist-packages/sklearn/neighbors/_classification.py:198: DataConversionWarning: A column-vector y was passed when a 1d array was expected. Please change the shape of y to (n_samples,), for example using ravel().\n",
            "  return self._fit(X, y)\n"
          ]
        }
      ]
    },
    {
      "cell_type": "code",
      "source": [
        "accuracy=metrics.accuracy_score(y_test,predictions)\n",
        "print('Accuracy =',accuracy)\n"
      ],
      "metadata": {
        "colab": {
          "base_uri": "https://localhost:8080/"
        },
        "id": "8_j7gUa2flWk",
        "outputId": "5492ddac-53f4-411f-cb3b-0a620bcdb495"
      },
      "execution_count": null,
      "outputs": [
        {
          "output_type": "stream",
          "name": "stdout",
          "text": [
            "Accuracy = 0.9481446289257851\n"
          ]
        }
      ]
    },
    {
      "cell_type": "markdown",
      "source": [
        "Logistic regression"
      ],
      "metadata": {
        "id": "It8FzYna0-9j"
      }
    },
    {
      "cell_type": "code",
      "source": [
        "from sklearn.metrics import confusion_matrix\n",
        "from sklearn.linear_model import LogisticRegression\n",
        "x_train,x_test,y_train,y_test=train_test_split(x,y,test_size=0.20)\n",
        "classifier=LogisticRegression(random_state=0)\n",
        "classifier.fit(x_train,y_train)\n",
        "y_pred=classifier.predict(x_test)\n",
        "cm=confusion_matrix(y_test,y_pred)\n",
        "print(\"confusion matrix:\",cm)\n"
      ],
      "metadata": {
        "colab": {
          "base_uri": "https://localhost:8080/"
        },
        "id": "fhIKeZ3ktqHy",
        "outputId": "11a20575-dd5a-4a39-c087-738cb055ef5c"
      },
      "execution_count": null,
      "outputs": [
        {
          "output_type": "stream",
          "name": "stderr",
          "text": [
            "/usr/local/lib/python3.8/dist-packages/sklearn/utils/validation.py:993: DataConversionWarning: A column-vector y was passed when a 1d array was expected. Please change the shape of y to (n_samples, ), for example using ravel().\n",
            "  y = column_or_1d(y, warn=True)\n"
          ]
        },
        {
          "output_type": "stream",
          "name": "stdout",
          "text": [
            "confusion matrix: [[181009   1311]\n",
            " [  6903  10737]]\n"
          ]
        },
        {
          "output_type": "stream",
          "name": "stderr",
          "text": [
            "/usr/local/lib/python3.8/dist-packages/sklearn/linear_model/_logistic.py:814: ConvergenceWarning: lbfgs failed to converge (status=1):\n",
            "STOP: TOTAL NO. of ITERATIONS REACHED LIMIT.\n",
            "\n",
            "Increase the number of iterations (max_iter) or scale the data as shown in:\n",
            "    https://scikit-learn.org/stable/modules/preprocessing.html\n",
            "Please also refer to the documentation for alternative solver options:\n",
            "    https://scikit-learn.org/stable/modules/linear_model.html#logistic-regression\n",
            "  n_iter_i = _check_optimize_result(\n"
          ]
        }
      ]
    },
    {
      "cell_type": "code",
      "source": [
        "sns.heatmap(cm,annot=True)\n",
        "plt.show()"
      ],
      "metadata": {
        "colab": {
          "base_uri": "https://localhost:8080/",
          "height": 268
        },
        "id": "wzE9CfiBz8_1",
        "outputId": "f102dceb-b2ff-4806-f365-9502ad66bda8"
      },
      "execution_count": null,
      "outputs": [
        {
          "output_type": "display_data",
          "data": {
            "text/plain": [
              "<Figure size 432x288 with 2 Axes>"
            ],
            "image/png": "[encoded data removed]"
          },
          "metadata": {
            "needs_background": "light"
          }
        }
      ]
    },
    {
      "cell_type": "code",
      "source": [
        "from sklearn.metrics import accuracy_score\n",
        "print(\"Accuracy:\",accuracy_score(y_test,y_pred))"
      ],
      "metadata": {
        "colab": {
          "base_uri": "https://localhost:8080/"
        },
        "id": "RpKPhmtJ0gu4",
        "outputId": "4f14d271-386e-4f13-fea2-53e3b9b9e40d"
      },
      "execution_count": null,
      "outputs": [
        {
          "output_type": "stream",
          "name": "stdout",
          "text": [
            "Accuracy: 0.9589217843568714\n"
          ]
        }
      ]
    }
  ],
  "metadata": {
    "colab": {
      "provenance": [],
      "include_colab_link": true
    },
    "kernelspec": {
      "display_name": "Python 3",
      "name": "python3"
    }
  },
  "nbformat": 4,
  "nbformat_minor": 0
}