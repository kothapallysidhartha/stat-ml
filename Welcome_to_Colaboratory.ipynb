{
  "cells": [
    {
      "cell_type": "markdown",
      "metadata": {
        "id": "view-in-github",
        "colab_type": "text"
      },
      "source": [
        "<a href=\"https://colab.research.google.com/github/kothapallysidhartha/stat-ml/blob/main/Welcome_to_Colaboratory.ipynb\" target=\"_parent\"><img src=\"https://colab.research.google.com/assets/colab-badge.svg\" alt=\"Open In Colab\"/></a>"
      ]
    },
    {
      "cell_type": "code",
      "source": [
        "import pandas as pd\n",
        "import matplotlib.pyplot as plt\n",
        "from sklearn.model_selection import train_test_split\n",
        "from sklearn.linear_model import LogisticRegression\n",
        "data=pd.read_csv('heart-1.csv')\n",
        "print(data)\n",
        "x=data.iloc[:,0:8]\n",
        "y=data.iloc[:,8:9]\n"
      ],
      "metadata": {
        "id": "847emU2GNqED",
        "outputId": "d43784d6-3cbf-4acd-ed10-4e0388ea1e19",
        "colab": {
          "base_uri": "https://localhost:8080/"
        }
      },
      "execution_count": 125,
      "outputs": [
        {
          "output_type": "stream",
          "name": "stdout",
          "text": [
            "     age  sex  cp  trestbps  chol  fbs  restecg  thalach  exang  oldpeak  \\\n",
            "0     63    1   3       145   233    1        0      150      0      2.3   \n",
            "1     37    1   2       130   250    0        1      187      0      3.5   \n",
            "2     41    0   1       130   204    0        0      172      0      1.4   \n",
            "3     56    1   1       120   236    0        1      178      0      0.8   \n",
            "4     57    0   0       120   354    0        1      163      1      0.6   \n",
            "..   ...  ...  ..       ...   ...  ...      ...      ...    ...      ...   \n",
            "298   57    0   0       140   241    0        1      123      1      0.2   \n",
            "299   45    1   3       110   264    0        1      132      0      1.2   \n",
            "300   68    1   0       144   193    1        1      141      0      3.4   \n",
            "301   57    1   0       130   131    0        1      115      1      1.2   \n",
            "302   57    0   1       130   236    0        0      174      0      0.0   \n",
            "\n",
            "     slope  ca  thal  target  \n",
            "0        0   0     1       1  \n",
            "1        0   0     2       1  \n",
            "2        2   0     2       1  \n",
            "3        2   0     2       1  \n",
            "4        2   0     2       1  \n",
            "..     ...  ..   ...     ...  \n",
            "298      1   0     3       0  \n",
            "299      1   0     3       0  \n",
            "300      1   2     3       0  \n",
            "301      1   1     3       0  \n",
            "302      1   1     2       0  \n",
            "\n",
            "[303 rows x 14 columns]\n"
          ]
        }
      ]
    },
    {
      "cell_type": "code",
      "source": [
        "from sklearn.preprocessing import StandardScaler\n",
        "sc=StandardScaler()\n",
        "data=sc.fit(x)\n",
        "dd=sc.transform(x)\n",
        "print(data)\n",
        "print(dd)\n",
        "print(x)\n",
        "x_train,x_test,y_train,y_test=train_test_split(x,y,test_size=0.25,random_state=2)\n",
        "print(x_train.shape)\n",
        "print(y_train.shape)\n",
        "print(x_test.shape)\n",
        "print(y_test.shape)\n"
      ],
      "metadata": {
        "id": "EtxKfJ0aOpW9",
        "outputId": "a82ef2ac-1d65-40e5-faf0-719f7284dabf",
        "colab": {
          "base_uri": "https://localhost:8080/"
        }
      },
      "execution_count": 126,
      "outputs": [
        {
          "output_type": "stream",
          "name": "stdout",
          "text": [
            "StandardScaler()\n",
            "[[ 0.9521966   0.68100522  1.97312292 ...  2.394438   -1.00583187\n",
            "   0.01544279]\n",
            " [-1.91531289  0.68100522  1.00257707 ... -0.41763453  0.89896224\n",
            "   1.63347147]\n",
            " [-1.47415758 -1.46841752  0.03203122 ... -0.41763453 -1.00583187\n",
            "   0.97751389]\n",
            " ...\n",
            " [ 1.50364073  0.68100522 -0.93851463 ...  2.394438    0.89896224\n",
            "  -0.37813176]\n",
            " [ 0.29046364  0.68100522 -0.93851463 ... -0.41763453  0.89896224\n",
            "  -1.51512489]\n",
            " [ 0.29046364 -1.46841752  0.03203122 ... -0.41763453 -1.00583187\n",
            "   1.0649749 ]]\n",
            "     age  sex  cp  trestbps  chol  fbs  restecg  thalach\n",
            "0     63    1   3       145   233    1        0      150\n",
            "1     37    1   2       130   250    0        1      187\n",
            "2     41    0   1       130   204    0        0      172\n",
            "3     56    1   1       120   236    0        1      178\n",
            "4     57    0   0       120   354    0        1      163\n",
            "..   ...  ...  ..       ...   ...  ...      ...      ...\n",
            "298   57    0   0       140   241    0        1      123\n",
            "299   45    1   3       110   264    0        1      132\n",
            "300   68    1   0       144   193    1        1      141\n",
            "301   57    1   0       130   131    0        1      115\n",
            "302   57    0   1       130   236    0        0      174\n",
            "\n",
            "[303 rows x 8 columns]\n",
            "(227, 8)\n",
            "(227, 1)\n",
            "(76, 8)\n",
            "(76, 1)\n"
          ]
        }
      ]
    },
    {
      "cell_type": "code",
      "source": [
        "lg= LogisticRegression(random_state = 2)\n",
        "mm=lg.fit(x_train,y_train)\n",
        "print(mm.score(x_train,y_train))\n",
        "print(mm.score(x_test,y_test))\n"
      ],
      "metadata": {
        "id": "sGR1CCw7OuHM",
        "outputId": "865a9c82-e073-4724-98dd-88f467cd695a",
        "colab": {
          "base_uri": "https://localhost:8080/"
        }
      },
      "execution_count": 128,
      "outputs": [
        {
          "output_type": "stream",
          "name": "stdout",
          "text": [
            "0.8281938325991189\n",
            "0.7368421052631579\n"
          ]
        },
        {
          "output_type": "stream",
          "name": "stderr",
          "text": [
            "/usr/local/lib/python3.7/dist-packages/sklearn/utils/validation.py:993: DataConversionWarning:\n",
            "\n",
            "A column-vector y was passed when a 1d array was expected. Please change the shape of y to (n_samples, ), for example using ravel().\n",
            "\n",
            "/usr/local/lib/python3.7/dist-packages/sklearn/linear_model/_logistic.py:818: ConvergenceWarning:\n",
            "\n",
            "lbfgs failed to converge (status=1):\n",
            "STOP: TOTAL NO. of ITERATIONS REACHED LIMIT.\n",
            "\n",
            "Increase the number of iterations (max_iter) or scale the data as shown in:\n",
            "    https://scikit-learn.org/stable/modules/preprocessing.html\n",
            "Please also refer to the documentation for alternative solver options:\n",
            "    https://scikit-learn.org/stable/modules/linear_model.html#logistic-regression\n",
            "\n"
          ]
        }
      ]
    },
    {
      "cell_type": "code",
      "source": [
        "yp=mm.predict(x_test)\n",
        "from sklearn.metrics import accuracy_score\n",
        "print(accuracy_score(yp,y_test))\n",
        "from sklearn.metrics import classification_report\n",
        "print(classification_report(yp,y_test))\n",
        "from sklearn import metrics\n",
        "metrics.plot_roc_curve(mm,x_test,y_test)\n",
        "from sklearn.metrics import confusion_matrix\n",
        "from sklearn.metrics import ConfusionMatrixDisplay\n",
        "cm=confusion_matrix(yp,y_test)\n"
      ],
      "metadata": {
        "id": "avfHMq7HO9Xq",
        "outputId": "cb7b1a67-c569-4a66-8b2c-792f4549af3b",
        "colab": {
          "base_uri": "https://localhost:8080/",
          "height": 542
        }
      },
      "execution_count": 127,
      "outputs": [
        {
          "output_type": "stream",
          "name": "stdout",
          "text": [
            "0.7368421052631579\n",
            "              precision    recall  f1-score   support\n",
            "\n",
            "           0       0.87      0.75      0.80        55\n",
            "           1       0.52      0.71      0.60        21\n",
            "\n",
            "    accuracy                           0.74        76\n",
            "   macro avg       0.69      0.73      0.70        76\n",
            "weighted avg       0.77      0.74      0.75        76\n",
            "\n"
          ]
        },
        {
          "output_type": "stream",
          "name": "stderr",
          "text": [
            "/usr/local/lib/python3.7/dist-packages/sklearn/utils/deprecation.py:87: FutureWarning:\n",
            "\n",
            "Function plot_roc_curve is deprecated; Function :func:`plot_roc_curve` is deprecated in 1.0 and will be removed in 1.2. Use one of the class methods: :meth:`sklearn.metric.RocCurveDisplay.from_predictions` or :meth:`sklearn.metric.RocCurveDisplay.from_estimator`.\n",
            "\n"
          ]
        },
        {
          "output_type": "display_data",
          "data": {
            "text/plain": [
              "<Figure size 432x288 with 1 Axes>"
            ],
            "image/png": "[encoded data removed]"
          },
          "metadata": {
            "needs_background": "light"
          }
        }
      ]
    },
    {
      "cell_type": "code",
      "source": [
        "d=ConfusionMatrixDisplay(cm).plot()"
      ],
      "metadata": {
        "id": "Crriz2ubPcCE",
        "outputId": "e49f678e-99a9-4bb5-84a0-782facc902c1",
        "colab": {
          "base_uri": "https://localhost:8080/",
          "height": 279
        }
      },
      "execution_count": 122,
      "outputs": [
        {
          "output_type": "display_data",
          "data": {
            "text/plain": [
              "<Figure size 432x288 with 2 Axes>"
            ],
            "image/png": "[encoded data removed]"
          },
          "metadata": {
            "needs_background": "light"
          }
        }
      ]
    }
  ],
  "metadata": {
    "colab": {
      "collapsed_sections": [],
      "name": "Welcome to Colaboratory",
      "provenance": [],
      "include_colab_link": true
    },
    "kernelspec": {
      "display_name": "Python 3",
      "name": "python3"
    }
  },
  "nbformat": 4,
  "nbformat_minor": 0
}